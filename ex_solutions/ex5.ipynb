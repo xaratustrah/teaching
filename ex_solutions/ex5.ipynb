{
 "cells": [
  {
   "cell_type": "markdown",
   "metadata": {},
   "source": [
    "# Applications of accelerators"
   ]
  },
  {
   "cell_type": "markdown",
   "metadata": {},
   "source": [
    "WS2020/2021"
   ]
  },
  {
   "cell_type": "markdown",
   "metadata": {},
   "source": [
    "### Solutions to Exercise 05"
   ]
  },
  {
   "cell_type": "code",
   "execution_count": 1,
   "metadata": {},
   "outputs": [],
   "source": [
    "import numpy as np\n",
    "import matplotlib.pyplot as plt\n",
    "from scipy.constants import c, e, epsilon_0\n",
    "%matplotlib inline"
   ]
  },
  {
   "cell_type": "markdown",
   "metadata": {},
   "source": [
    "1- [1 point] Repeat Ex.4-4. (see comment above) \"Calculate the energy lost due to sychrotron radiation per turn of the particles in the previous example, assuming you are using the Diamond Light Source with the circumference of 561.6 [m]. What is the opening angle of the radiation cone in DEGREES?\"\n",
    "\n",
    "* 90 [AMeV] 238-U-28+\n",
    "* 330 [MeV/u] 197-Au-77+\n",
    "* 7 [TeV] protons\n",
    "* 10 [GeV] electrons\n"
   ]
  },
  {
   "cell_type": "code",
   "execution_count": 2,
   "metadata": {},
   "outputs": [],
   "source": [
    "def get_gamma(TMeV, m_0_Mev_c2):\n",
    "    return TMeV/m_0_Mev_c2 + 1"
   ]
  },
  {
   "cell_type": "code",
   "execution_count": 3,
   "metadata": {},
   "outputs": [],
   "source": [
    "def get_delta_e(gamma, q, rho):\n",
    "    beta = np.sqrt(1-1/gamma**2)\n",
    "    print(beta)\n",
    "    return (q*e)**2 * beta**3 * gamma**4 / 3 / epsilon_0 / rho"
   ]
  },
  {
   "cell_type": "code",
   "execution_count": 4,
   "metadata": {},
   "outputs": [],
   "source": [
    "def get_angle_degrees(gamma):\n",
    "    return np.rad2deg(1/gamma)"
   ]
  },
  {
   "cell_type": "markdown",
   "metadata": {},
   "source": [
    "90 [AMeV] 238-U-28+"
   ]
  },
  {
   "cell_type": "code",
   "execution_count": 5,
   "metadata": {},
   "outputs": [
    {
     "name": "stdout",
     "output_type": "stream",
     "text": [
      "1.0966189798323982\n",
      "0.4104263374433186\n",
      "8.475168351939063e-28 [J]\n",
      "5.2897840176210335e-09 [eV]\n",
      "52.24766356117521 [°]\n"
     ]
    }
   ],
   "source": [
    "gamma = get_gamma(238*90, 238*931.494)\n",
    "print(gamma)\n",
    "\n",
    "delta_e = get_delta_e(gamma, 28, 561.6/2/np.pi)\n",
    "print(delta_e, '[J]')\n",
    "print(delta_e/e, '[eV]')\n",
    "\n",
    "print(get_angle_degrees(gamma), '[°]')"
   ]
  },
  {
   "cell_type": "markdown",
   "metadata": {},
   "source": [
    "330 [MeV/u] 197-Au-77+"
   ]
  },
  {
   "cell_type": "code",
   "execution_count": 6,
   "metadata": {},
   "outputs": [
    {
     "name": "stdout",
     "output_type": "stream",
     "text": [
      "1.3542695927187935\n",
      "6.612645630263357e-26 [J]\n",
      "4.1272888047520785e-07 [eV]\n",
      "42.307513822308394 [°]\n"
     ]
    }
   ],
   "source": [
    "gamma = get_gamma(197*330, 197*931.494)\n",
    "print(gamma)\n",
    "\n",
    "delta_e = get_delta_e(gamma, 77, 561.6/2/np.pi)\n",
    "print(delta_e, '[J]')\n",
    "print(delta_e/e, '[eV]')\n",
    "\n",
    "print(get_angle_degrees(gamma), '[°]')"
   ]
  },
  {
   "cell_type": "markdown",
   "metadata": {},
   "source": [
    "7 [TeV] protons"
   ]
  },
  {
   "cell_type": "code",
   "execution_count": 7,
   "metadata": {},
   "outputs": [
    {
     "name": "stdout",
     "output_type": "stream",
     "text": [
      "7461.523174516557\n",
      "3.351301660785082e-14 [J]\n",
      "209171.79899377807 [eV]\n",
      "0.007678831543238435 [°]\n"
     ]
    }
   ],
   "source": [
    "gamma = get_gamma(7000000, 938.272)\n",
    "print(gamma)\n",
    "\n",
    "delta_e = get_delta_e(gamma, 1, 561.6/2/np.pi)\n",
    "print(delta_e, '[J]')\n",
    "print(delta_e/e, '[eV]')\n",
    "\n",
    "print(get_angle_degrees(gamma), '[°]')"
   ]
  },
  {
   "cell_type": "markdown",
   "metadata": {},
   "source": [
    "10 [GeV] electrons"
   ]
  },
  {
   "cell_type": "code",
   "execution_count": 8,
   "metadata": {},
   "outputs": [
    {
     "name": "stdout",
     "output_type": "stream",
     "text": [
      "19608.843137254902\n",
      "1.598495626729761e-12 [J]\n",
      "9977025.041918281 [eV]\n",
      "0.0029219357364446397 [°]\n"
     ]
    }
   ],
   "source": [
    "gamma = get_gamma(10000, 0.510)\n",
    "print(gamma)\n",
    "\n",
    "delta_e = get_delta_e(gamma, 1, 561.6/2/np.pi)\n",
    "print(delta_e, '[J]')\n",
    "print(delta_e/e, '[eV]')\n",
    "\n",
    "print(get_angle_degrees(gamma), '[°]')"
   ]
  },
  {
   "cell_type": "markdown",
   "metadata": {},
   "source": [
    "2- [1 point] please calculate the magnetic rigidity using the method as shown in the video on ILIAS (do not use your Python code, do it by hand, this is an exercise similar to the exam!):\n",
    "\n",
    "- electrons @ 20 [MeV]\n",
    "- protons @ 100 [keV]\n",
    "- 58-Ni-26+ @ 184 [AMeV]\n",
    "- 238-U-90+ @ 190 [AMeV]"
   ]
  },
  {
   "cell_type": "code",
   "execution_count": 9,
   "metadata": {},
   "outputs": [],
   "source": [
    "def get_brho(gamma, m_0_Mev_c2, q):\n",
    "    beta = np.sqrt(1-1/gamma**2)\n",
    "    return gamma * beta * c * m_0_Mev_c2 * 1.66e-27 / 931.494 / q / e"
   ]
  },
  {
   "cell_type": "markdown",
   "metadata": {},
   "source": [
    "electrons @ 20 [MeV]"
   ]
  },
  {
   "cell_type": "code",
   "execution_count": 10,
   "metadata": {},
   "outputs": [
    {
     "name": "stdout",
     "output_type": "stream",
     "text": [
      "0.06837064746461918 [Tm]\n"
     ]
    }
   ],
   "source": [
    "print(get_brho(get_gamma(20, 0.510), 0.510, 1), '[Tm]')"
   ]
  },
  {
   "cell_type": "markdown",
   "metadata": {},
   "source": [
    "protons @ 100 [keV]"
   ]
  },
  {
   "cell_type": "code",
   "execution_count": 11,
   "metadata": {},
   "outputs": [
    {
     "name": "stdout",
     "output_type": "stream",
     "text": [
      "0.04568033564254131 [Tm]\n"
     ]
    }
   ],
   "source": [
    "print(get_brho(get_gamma(0.1, 938.272), 938.272, 1), '[Tm]')"
   ]
  },
  {
   "cell_type": "markdown",
   "metadata": {},
   "source": [
    "58-Ni-26+ @ 184 [AMeV]"
   ]
  },
  {
   "cell_type": "code",
   "execution_count": 12,
   "metadata": {},
   "outputs": [
    {
     "name": "stdout",
     "output_type": "stream",
     "text": [
      "4.565197223187408 [Tm]\n"
     ]
    }
   ],
   "source": [
    "print(get_brho(get_gamma(58*184, 58*931.494), 58*931.494, 26), '[Tm]')"
   ]
  },
  {
   "cell_type": "markdown",
   "metadata": {},
   "source": [
    "238-U-90+ @ 190 [AMeV]"
   ]
  },
  {
   "cell_type": "code",
   "execution_count": 13,
   "metadata": {},
   "outputs": [
    {
     "name": "stdout",
     "output_type": "stream",
     "text": [
      "5.507351459680521 [Tm]\n"
     ]
    }
   ],
   "source": [
    "print(get_brho(get_gamma(238*190, 238*931.494), 238*931.494, 90), '[Tm]')"
   ]
  },
  {
   "cell_type": "markdown",
   "metadata": {},
   "source": [
    "3- [1 point] You usually need quadrupoles in synchrotrons and transfer lines otherwise you can not transport charged particles. How do people transport neutrons in the European Spallation Source (ESS) inside the pipes until they reach experiments?"
   ]
  },
  {
   "cell_type": "markdown",
   "metadata": {},
   "source": [
    "Since neutrons have no charge, they can not be guided by an electromagnetic system. Highly polished vacuum tubes, the so called **neutron guides** are used. Please see [this paper](https://doi.org/10.1016/j.nima.2012.11.183) and [this paper](https://doi.org/10.1016/j.nima.2012.08.027) for more information."
   ]
  },
  {
   "cell_type": "markdown",
   "metadata": {},
   "source": [
    "4- [1 point] Write in your own words, what is the advantage of sub-critical reactors and how does an accelerator help with that?\n",
    "\n",
    "5- [1 point] Write in your own words, what is the emittance? What is beta function?\n",
    "\n",
    "6- [1 point] Write in your own words, what is the Bragg peak in accelerator physics and where does it come from?\n"
   ]
  },
  {
   "cell_type": "markdown",
   "metadata": {},
   "source": [
    "please see lecture slides"
   ]
  },
  {
   "cell_type": "markdown",
   "metadata": {},
   "source": [
    "7- [1 point] Similar to task 1, but write a Python code that plots the radiated energy per turn of an electron with respect to its gamma for the Diamond Light Source. Make a nice plot, with axis labels and units, grid and title, save it as PNG and upload it together with your code on your GitHUB account.\n",
    "\n",
    "Hint: use the generalised formula on slide 24!\n",
    "Hint: you can vary gamma from minimum to a maximum which corresponds to the 3 [GeV] used in Diamond Light Source."
   ]
  },
  {
   "cell_type": "code",
   "execution_count": 14,
   "metadata": {},
   "outputs": [
    {
     "data": {
      "text/plain": [
       "5883"
      ]
     },
     "execution_count": 14,
     "metadata": {},
     "output_type": "execute_result"
    }
   ],
   "source": [
    "gamma_max = int(get_gamma(3000, 0.510))\n",
    "gamma_max"
   ]
  },
  {
   "cell_type": "code",
   "execution_count": 15,
   "metadata": {},
   "outputs": [],
   "source": [
    "gammas = np.arange(1, gamma_max)"
   ]
  },
  {
   "cell_type": "code",
   "execution_count": 16,
   "metadata": {},
   "outputs": [],
   "source": [
    "delta_e = get_delta_e(gammas, 1, 561.6/2/np.pi) / e / 1e3"
   ]
  },
  {
   "cell_type": "code",
   "execution_count": 17,
   "metadata": {},
   "outputs": [
    {
     "data": {
      "image/png": "[encoded data removed]",
      "text/plain": [
       "<Figure size 432x288 with 1 Axes>"
      ]
     },
     "metadata": {
      "needs_background": "light"
     },
     "output_type": "display_data"
    }
   ],
   "source": [
    "plt.plot(gammas, delta_e)\n",
    "plt.grid()\n",
    "plt.xlabel(r'$\\gamma$')\n",
    "plt.ylabel(r'$\\Delta E$ [keV]')\n",
    "plt.title('Radiated energy per turn for electrons in Diamond')\n",
    "plt.savefig('diamond.png')"
   ]
  },
  {
   "cell_type": "code",
   "execution_count": null,
   "metadata": {},
   "outputs": [],
   "source": []
  }
 ],
 "metadata": {
  "kernelspec": {
   "display_name": "Python 3",
   "language": "python",
   "name": "python3"
  },
  "language_info": {
   "codemirror_mode": {
    "name": "ipython",
    "version": 3
   },
   "file_extension": ".py",
   "mimetype": "text/x-python",
   "name": "python",
   "nbconvert_exporter": "python",
   "pygments_lexer": "ipython3",
   "version": "3.8.5"
  }
 },
 "nbformat": 4,
 "nbformat_minor": 2
}
