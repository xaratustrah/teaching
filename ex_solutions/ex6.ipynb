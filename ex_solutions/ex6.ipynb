{
 "cells": [
  {
   "cell_type": "markdown",
   "metadata": {},
   "source": [
    "# Applications of accelerators"
   ]
  },
  {
   "cell_type": "markdown",
   "metadata": {},
   "source": [
    "WS2020/2021"
   ]
  },
  {
   "cell_type": "markdown",
   "metadata": {},
   "source": [
    "### Exercise 06"
   ]
  },
  {
   "cell_type": "markdown",
   "metadata": {},
   "source": [
    "### Exercise 06 solutions"
   ]
  },
  {
   "cell_type": "code",
   "execution_count": 1,
   "metadata": {},
   "outputs": [],
   "source": [
    "import numpy as np\n",
    "import matplotlib.pyplot as plt\n",
    "%matplotlib inline"
   ]
  },
  {
   "cell_type": "markdown",
   "metadata": {},
   "source": [
    "- [2 points] design a **series** resonant circuit R=12 Ω, C=200 [pF], L= 50 [nH]. Calculate the following quantities using correct units:\n",
    "\n",
    " - angular resonant frequency\n",
    " - resonant frequency\n",
    " - Q value\n",
    " - R/Q\n",
    " - damping constant (gamma)\n",
    " - damping constant in units of [dB]\n",
    " - damping factor (what is the unit of damping factor?)"
   ]
  },
  {
   "cell_type": "code",
   "execution_count": 2,
   "metadata": {},
   "outputs": [],
   "source": [
    "L = 50e-9 # [H]\n",
    "C = 200e-12 # [F]\n",
    "R = 12 # [Ω]"
   ]
  },
  {
   "cell_type": "code",
   "execution_count": 3,
   "metadata": {},
   "outputs": [
    {
     "name": "stdout",
     "output_type": "stream",
     "text": [
      "316227766.01683795 [rad/s]\n"
     ]
    }
   ],
   "source": [
    "w_0 = np.sqrt(1/L/C)\n",
    "print(w_0, '[rad/s]')"
   ]
  },
  {
   "cell_type": "code",
   "execution_count": 4,
   "metadata": {},
   "outputs": [
    {
     "name": "stdout",
     "output_type": "stream",
     "text": [
      "50329212.10448704 [Hz]\n"
     ]
    }
   ],
   "source": [
    "f_0 = w_0 / 2/np.pi\n",
    "print(f_0, '[Hz]')"
   ]
  },
  {
   "cell_type": "code",
   "execution_count": 5,
   "metadata": {},
   "outputs": [
    {
     "name": "stdout",
     "output_type": "stream",
     "text": [
      "1.3176156917368247\n"
     ]
    }
   ],
   "source": [
    "Qs = 1/(w_0*R*C)\n",
    "print(Qs)"
   ]
  },
  {
   "cell_type": "code",
   "execution_count": 6,
   "metadata": {},
   "outputs": [
    {
     "name": "stdout",
     "output_type": "stream",
     "text": [
      "9.107359661284933 ohms\n"
     ]
    }
   ],
   "source": [
    "print(R/Qs, 'ohms')"
   ]
  },
  {
   "cell_type": "code",
   "execution_count": 7,
   "metadata": {},
   "outputs": [
    {
     "name": "stdout",
     "output_type": "stream",
     "text": [
      "120000000.0 [Np/s]\n",
      "1042306756.5678045 [dB/s]\n",
      "Np and dB are pseudo-units. In SI units, gamma has the same units as frequency i.e. 1/s\n"
     ]
    }
   ],
   "source": [
    "gamma = R/L/2\n",
    "print(gamma, '[Np/s]')\n",
    "print(20*np.log10(np.e)*gamma, '[dB/s]')\n",
    "print('Np and dB are pseudo-units. In SI units, gamma has the same units as frequency i.e. 1/s' )"
   ]
  },
  {
   "cell_type": "code",
   "execution_count": 8,
   "metadata": {},
   "outputs": [
    {
     "name": "stdout",
     "output_type": "stream",
     "text": [
      "0.3794733192202055 [dimensionless]\n",
      "Dimensionless, because Np and dB are not SI units.\n"
     ]
    }
   ],
   "source": [
    "zeta = gamma / w_0\n",
    "print(zeta, '[dimensionless]')\n",
    "print('Dimensionless, because Np and dB are not SI units.')"
   ]
  },
  {
   "cell_type": "code",
   "execution_count": 9,
   "metadata": {},
   "outputs": [
    {
     "name": "stdout",
     "output_type": "stream",
     "text": [
      "120000000.00000001 [Np/s]\n",
      "0.37947331922020555 [dimensionless]\n",
      "Dimensionless, because Np and dB are not SI units.\n"
     ]
    }
   ],
   "source": [
    "# alternative calculation of gamma and zeta\n",
    "gamma = w_0/2/Qs\n",
    "print(gamma, '[Np/s]')\n",
    "zeta = 1/2/Qs\n",
    "print(zeta, '[dimensionless]')\n",
    "print('Dimensionless, because Np and dB are not SI units.')"
   ]
  },
  {
   "cell_type": "markdown",
   "metadata": {},
   "source": [
    "- [1 point] A **sine** wave voltage has an RMS value of 100 [V], what is its peak value? what is the average power dissipated on a 50 [Ω] resistor?\n"
   ]
  },
  {
   "cell_type": "code",
   "execution_count": 10,
   "metadata": {},
   "outputs": [
    {
     "name": "stdout",
     "output_type": "stream",
     "text": [
      "141.4213562373095 [V]\n"
     ]
    }
   ],
   "source": [
    "u_rms = 100 # [V]\n",
    "u_peak = np.sqrt(2)*u_rms\n",
    "print(u_peak, '[V]')"
   ]
  },
  {
   "cell_type": "code",
   "execution_count": 11,
   "metadata": {},
   "outputs": [
    {
     "name": "stdout",
     "output_type": "stream",
     "text": [
      "200.0 [W]\n"
     ]
    }
   ],
   "source": [
    "R = 50 # [Ohm]\n",
    "p_avg = u_peak**2/2/R\n",
    "print(p_avg, '[W]')"
   ]
  },
  {
   "cell_type": "markdown",
   "metadata": {},
   "source": [
    "- [1 point] Write an expression for the complex valued impedance of a circuit consisting of an inductor L and a resistor R connected in **parallel**, separated in cartesian form?"
   ]
  },
  {
   "cell_type": "markdown",
   "metadata": {},
   "source": [
    "$$\\frac{1}{Z}=\\frac{1}{R}+\\frac{1}{j\\omega L}$$\n",
    "$$Z=\\frac{L^2R\\omega^2}{L^2\\omega^2+R^2}+j\\frac{LR^2\\omega}{L^2\\omega^2+R^2}$$"
   ]
  },
  {
   "cell_type": "markdown",
   "metadata": {},
   "source": [
    "- [1 point] Now connect the above circuit in **series** to a capacitor C and write down the overall expression for the impedance in cartesian form."
   ]
  },
  {
   "cell_type": "markdown",
   "metadata": {},
   "source": [
    "$$Z=\\frac{L^2R\\omega^2}{L^2\\omega^2+R^2}+j\\frac{LR^2\\omega}{L^2\\omega^2+R^2}+\\frac{1}{j\\omega C}$$\n",
    "$$Z=\\frac{L^2R\\omega^2}{L^2\\omega^2+R^2}+j\\left(\\frac{LR^2\\omega}{L^2\\omega^2+R^2}-\\frac{1}{\\omega C}\\right)$$"
   ]
  },
  {
   "cell_type": "markdown",
   "metadata": {},
   "source": [
    "- [1 point] Write down in your own words, what the Nyquist theorem in sampling is. A child is playing: moving up and down on a seesaw 2 times per second while moving their hands 3 times per seconds. How many frames per second should a camera at least have so that the child and all its motions is depicted correctly in a motion capture video?"
   ]
  },
  {
   "cell_type": "markdown",
   "metadata": {},
   "source": [
    "According to the nyquist theorem, the sampling frequency should be at least twice as fast as the fastest frequency component of the signal, otherwise the data will not correspond to the original data. so in the example the sampling frequency (taking pictures) should be at least 6 times per second."
   ]
  },
  {
   "cell_type": "markdown",
   "metadata": {},
   "source": [
    "- [1 point] An analog to digital converter has 12 bits, while its reference voltage is 5[V]. Values are written on a computer. What is the voltage corresponding to the binary value **0000 0000 1000** ? "
   ]
  },
  {
   "cell_type": "markdown",
   "metadata": {},
   "source": [
    "12 bit means from 0 to 2^(12)-1 which is distributed from 0 to 4095. Every voltage step is 5[V] / 4096 = 0.0012 [V]\n",
    "so\n",
    "\n",
    "- 0000 0000 0000 in binary corresponds to decimal 0 = 0 volt\n",
    "- 0000 0000 0001 in binary corresponds to decimal 1 = 0.0012 volt\n",
    "- 0000 0000 0010 in binary corresponds to decimal 2 = 0.0012 x 2 = 0.0024 volts\n",
    "- 0000 0000 0011 in binary corresponds to decimal 3 = 0.0012 x 3 = 0.0036 volts\n",
    "- 0000 0000 0100 in binary corresponds to decimal 4\n",
    "- 0000 0000 0101 in binary corresponds to decimal 5\n",
    "- 0000 0000 0110 in binary corresponds to decimal 6\n",
    "- 0000 0000 0111 in binary corresponds to decimal 7\n",
    "- **0000 0000 1000** in binary corresponds to decimal 8 = 0.0012 x 8 = 0.0096 volts"
   ]
  },
  {
   "cell_type": "markdown",
   "metadata": {},
   "source": [
    "* [1 point] A system has a voltage gain (i.e. amplification or multiplication) of 2 (That means the system doubles the input signal voltage, or the output voltage is twice as large as the input). Describe this voltage gain in pseudo units of [dB]."
   ]
  },
  {
   "cell_type": "code",
   "execution_count": 12,
   "metadata": {},
   "outputs": [
    {
     "name": "stdout",
     "output_type": "stream",
     "text": [
      "6.020599913279624 [dB]\n"
     ]
    }
   ],
   "source": [
    "print(20*np.log10(2), '[dB]')"
   ]
  },
  {
   "cell_type": "markdown",
   "metadata": {},
   "source": [
    "* [1 point] A source provides a signal with a power of 200 [mW]. How much is it in pseudo units of [dBm]?"
   ]
  },
  {
   "cell_type": "code",
   "execution_count": 13,
   "metadata": {},
   "outputs": [
    {
     "name": "stdout",
     "output_type": "stream",
     "text": [
      "23.010299956639813 [dBm]\n"
     ]
    }
   ],
   "source": [
    "print(10*np.log10(200/1), '[dBm]')"
   ]
  },
  {
   "cell_type": "markdown",
   "metadata": {},
   "source": [
    "* [1 point] What should be done to a signal from an accelerator in order be able to store it on a computer?"
   ]
  },
  {
   "cell_type": "markdown",
   "metadata": {},
   "source": [
    "The continuous time signals will be digitised in amplitide and sampled in time. Such values then can be stored on a computer for further processing."
   ]
  },
  {
   "cell_type": "markdown",
   "metadata": {},
   "source": [
    "* [1 point] A discrete time signal (i.e. a signal that is already stored on a computer) is x[n] = [1,2,3] which goes through a system whose discrete time impulse response is known as h[n] = [4,5,6,7]. Calculate the output y[n] by hand. Additionally use python to calculate and plot the result like in the example."
   ]
  },
  {
   "cell_type": "code",
   "execution_count": 14,
   "metadata": {},
   "outputs": [
    {
     "name": "stdout",
     "output_type": "stream",
     "text": [
      "output signal: y =  [ 4 13 28 34 32 21]\n"
     ]
    },
    {
     "data": {
      "text/plain": [
       "<StemContainer object of 3 artists>"
      ]
     },
     "execution_count": 14,
     "metadata": {},
     "output_type": "execute_result"
    },
    {
     "data": {
      "image/png": "[encoded data removed]",
      "text/plain": [
       "<Figure size 432x288 with 1 Axes>"
      ]
     },
     "metadata": {
      "needs_background": "light"
     },
     "output_type": "display_data"
    },
    {
     "data": {
      "image/png": "[encoded data removed]",
      "text/plain": [
       "<Figure size 432x288 with 1 Axes>"
      ]
     },
     "metadata": {
      "needs_background": "light"
     },
     "output_type": "display_data"
    },
    {
     "data": {
      "image/png": "[encoded data removed]",
      "text/plain": [
       "<Figure size 432x288 with 1 Axes>"
      ]
     },
     "metadata": {
      "needs_background": "light"
     },
     "output_type": "display_data"
    }
   ],
   "source": [
    "x = np.array([1,2,3])\n",
    "h = np.array([4,5,6,7])\n",
    "y = np.convolve(x, h)\n",
    "print('output signal: y = ', y)\n",
    "plt.stem(x)\n",
    "plt.figure()\n",
    "plt.stem(h)\n",
    "plt.figure()\n",
    "plt.stem(y)"
   ]
  },
  {
   "cell_type": "markdown",
   "metadata": {},
   "source": [
    "* [3 point BONUS, i.e. **you get the points if you solve everything correctly** not points for parts] A voltage divider consists of identical resistors. What is the voltage gain in [dB] and in [Np]? What is its impulse response?"
   ]
  },
  {
   "cell_type": "markdown",
   "metadata": {},
   "source": [
    "voltage divider with identical resistors halves the voltage."
   ]
  },
  {
   "cell_type": "code",
   "execution_count": 15,
   "metadata": {},
   "outputs": [
    {
     "name": "stdout",
     "output_type": "stream",
     "text": [
      "gain is:\n",
      "-6.020599913279624 [dB]\n",
      "-0.6931471805599453 [Np]\n"
     ]
    }
   ],
   "source": [
    "print('gain is:')\n",
    "print(20*np.log10(0.5), '[dB]')\n",
    "print(20*np.log10(0.5)/20/np.log10(np.e), '[Np]')"
   ]
  },
  {
   "cell_type": "markdown",
   "metadata": {},
   "source": [
    "The impulse response is just:\n",
    "$$h[n] = 0.5\\delta[n]$$\n",
    "where $\\delta[n]$ is the Kronecker delta. Kronecker delta is a function that has the value of one at zero and zero everywhere else"
   ]
  },
  {
   "cell_type": "code",
   "execution_count": null,
   "metadata": {},
   "outputs": [],
   "source": []
  }
 ],
 "metadata": {
  "kernelspec": {
   "display_name": "Python 3",
   "language": "python",
   "name": "python3"
  },
  "language_info": {
   "codemirror_mode": {
    "name": "ipython",
    "version": 3
   },
   "file_extension": ".py",
   "mimetype": "text/x-python",
   "name": "python",
   "nbconvert_exporter": "python",
   "pygments_lexer": "ipython3",
   "version": "3.8.5"
  }
 },
 "nbformat": 4,
 "nbformat_minor": 2
}
