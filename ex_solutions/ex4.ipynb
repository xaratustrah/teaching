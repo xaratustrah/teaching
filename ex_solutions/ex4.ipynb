{
 "cells": [
  {
   "cell_type": "markdown",
   "metadata": {},
   "source": [
    "# Applications of accelerators"
   ]
  },
  {
   "cell_type": "markdown",
   "metadata": {},
   "source": [
    "WS2020/2021"
   ]
  },
  {
   "cell_type": "markdown",
   "metadata": {},
   "source": [
    "### Solutions to Exercise 04-2"
   ]
  },
  {
   "cell_type": "code",
   "execution_count": 1,
   "metadata": {},
   "outputs": [],
   "source": [
    "import numpy as np\n",
    "import matplotlib.pyplot as plt\n",
    "from scipy.constants import c, e, epsilon_0\n",
    "%matplotlib inline"
   ]
  },
  {
   "cell_type": "markdown",
   "metadata": {},
   "source": [
    "2- You are working as an accelerator expert in a private company. A super rich customer wants to have a circular particle accelerator for their 8[m] by 8[m] living room for showing off how he can accelerate 40-Ca-1+ ions to 100 [AMeV] to their guests when they come for playing poker on Tuesday evenings. He tells you that he is planning to buy the biggest magnets in the market which has 1.5 [T]\n",
    "\n",
    "2a- [1 point] You tell the costumer to reconsider the design and use a proton beam instead, due to size constraints. Can you back up your suggestion with corresponding calculations?\n",
    "\n",
    "2b- [1 point] The customer is not happy, and your boss is likely to fire you because you made the customer unhappy! Your boss asks you to reconsider the charge state of the Calcium beam so that the size will be the smallest of this configuration. You do the calculation and see that the situation is actually much better. Please provide these calculations and explain in your own words what the effect of changing the charge state is."
   ]
  },
  {
   "cell_type": "code",
   "execution_count": 2,
   "metadata": {},
   "outputs": [],
   "source": [
    "def get_gamma(TMeV, m_0_Mev_c2):\n",
    "    return TMeV/m_0_Mev_c2 + 1"
   ]
  },
  {
   "cell_type": "code",
   "execution_count": 3,
   "metadata": {},
   "outputs": [],
   "source": [
    "def get_brho(gamma, m_0_Mev_c2, q):\n",
    "    beta = np.sqrt(1-1/gamma**2)\n",
    "    return gamma * beta * c * m_0_Mev_c2 * 1.66e-27 / 931.494 / q / e"
   ]
  },
  {
   "cell_type": "markdown",
   "metadata": {},
   "source": [
    "2a- Singly charged, Calcium would lead to a large radius:"
   ]
  },
  {
   "cell_type": "code",
   "execution_count": 4,
   "metadata": {},
   "outputs": [
    {
     "name": "stdout",
     "output_type": "stream",
     "text": [
      "39.397248338933345 [m]\n"
     ]
    }
   ],
   "source": [
    "print(get_brho(get_gamma(100*40, 40*931.494), 40*931.494, 1) / 1.5, '[m]')\n"
   ]
  },
  {
   "cell_type": "markdown",
   "metadata": {},
   "source": [
    "you ask the customer to use proton beam instead, because you can make a cute small circular accelerator with it:"
   ]
  },
  {
   "cell_type": "code",
   "execution_count": 5,
   "metadata": {},
   "outputs": [
    {
     "name": "stdout",
     "output_type": "stream",
     "text": [
      "0.03045355684412702 [m]\n"
     ]
    }
   ],
   "source": [
    "print(get_brho(get_gamma(0.1, 938.272), 938.272, 1) / 1.5, '[m]')"
   ]
  },
  {
   "cell_type": "markdown",
   "metadata": {},
   "source": [
    "2b- Alternatively you realize that Calcium can have a maximum charge state of 20"
   ]
  },
  {
   "cell_type": "code",
   "execution_count": 6,
   "metadata": {},
   "outputs": [
    {
     "name": "stdout",
     "output_type": "stream",
     "text": [
      "1.9698624169466672 [m]\n"
     ]
    }
   ],
   "source": [
    "print(get_brho(get_gamma(100*40, 40*931.494), 40*931.494, 20) / 1.5, '[m]')"
   ]
  },
  {
   "cell_type": "markdown",
   "metadata": {},
   "source": [
    "Given the same mass, the higher the charge state, the easier it is to bend it."
   ]
  },
  {
   "cell_type": "code",
   "execution_count": null,
   "metadata": {},
   "outputs": [],
   "source": []
  }
 ],
 "metadata": {
  "kernelspec": {
   "display_name": "Python 3",
   "language": "python",
   "name": "python3"
  },
  "language_info": {
   "codemirror_mode": {
    "name": "ipython",
    "version": 3
   },
   "file_extension": ".py",
   "mimetype": "text/x-python",
   "name": "python",
   "nbconvert_exporter": "python",
   "pygments_lexer": "ipython3",
   "version": "3.8.5"
  }
 },
 "nbformat": 4,
 "nbformat_minor": 4
}
